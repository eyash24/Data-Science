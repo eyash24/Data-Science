{
  "nbformat": 4,
  "nbformat_minor": 0,
  "metadata": {
    "colab": {
      "provenance": [],
      "authorship_tag": "ABX9TyNIY/nLW1OHqU7lpaUYsepR",
      "include_colab_link": true
    },
    "kernelspec": {
      "name": "python3",
      "display_name": "Python 3"
    },
    "language_info": {
      "name": "python"
    }
  },
  "cells": [
    {
      "cell_type": "markdown",
      "metadata": {
        "id": "view-in-github",
        "colab_type": "text"
      },
      "source": [
        "<a href=\"https://colab.research.google.com/github/eyash24/Data-Science/blob/main/NLP_101_ML_Language_Translator.ipynb\" target=\"_parent\"><img src=\"https://colab.research.google.com/assets/colab-badge.svg\" alt=\"Open In Colab\"/></a>"
      ]
    },
    {
      "cell_type": "markdown",
      "source": [
        "# Machine Learning Language Translator Using Sequence to Sequence NN\n",
        "Following Krish Naik  video: https://youtu.be/f-JCCOHwx1c?si=TR8moBCoRkNQCdMI\n",
        "<br>\n",
        "And the article blog: https://blog.keras.io/a-ten-minute-introduction-to-sequence-to-sequence-learning-in-keras.html\n",
        "<br>\n",
        "And this article: https://keras.io/examples/nlp/lstm_seq2seq/"
      ],
      "metadata": {
        "id": "58dC1Uzff0H8"
      }
    },
    {
      "cell_type": "code",
      "execution_count": null,
      "metadata": {
        "colab": {
          "base_uri": "https://localhost:8080/"
        },
        "id": "mvItwf8QIqrw",
        "outputId": "b83704a3-7d40-4103-92f2-27067baf5eab"
      },
      "outputs": [
        {
          "output_type": "stream",
          "name": "stdout",
          "text": [
            "--2024-07-03 19:20:48--  https://www.manythings.org/anki/fra-eng.zip\n",
            "Resolving www.manythings.org (www.manythings.org)... 173.254.30.110\n",
            "Connecting to www.manythings.org (www.manythings.org)|173.254.30.110|:443... connected.\n",
            "HTTP request sent, awaiting response... 200 OK\n",
            "Length: 7943074 (7.6M) [application/zip]\n",
            "Saving to: ‘fra-eng.zip’\n",
            "\n",
            "fra-eng.zip         100%[===================>]   7.57M  34.0MB/s    in 0.2s    \n",
            "\n",
            "2024-07-03 19:20:48 (34.0 MB/s) - ‘fra-eng.zip’ saved [7943074/7943074]\n",
            "\n"
          ]
        }
      ],
      "source": [
        "! wget https://www.manythings.org/anki/fra-eng.zip"
      ]
    },
    {
      "cell_type": "code",
      "source": [
        "! unzip fra-eng.zip"
      ],
      "metadata": {
        "colab": {
          "base_uri": "https://localhost:8080/"
        },
        "id": "4v3F_SWkfofU",
        "outputId": "84b17121-8847-4889-ec1b-7b4fa0a3c4b4"
      },
      "execution_count": null,
      "outputs": [
        {
          "output_type": "stream",
          "name": "stdout",
          "text": [
            "Archive:  fra-eng.zip\n",
            "  inflating: _about.txt              \n",
            "  inflating: fra.txt                 \n"
          ]
        }
      ]
    },
    {
      "cell_type": "code",
      "source": [
        "from tensorflow.keras.models import Model\n",
        "from tensorflow.keras.layers import Input, LSTM, Dense\n",
        "import numpy as np\n",
        "import pandas as pd\n"
      ],
      "metadata": {
        "id": "rCcpoZL5CxMu"
      },
      "execution_count": null,
      "outputs": []
    },
    {
      "cell_type": "code",
      "source": [
        "batch_size = 64\n",
        "epochs = 100\n",
        "latent_dim = 256\n",
        "num_samples = 10000\n"
      ],
      "metadata": {
        "id": "pmZqkvtEDG40"
      },
      "execution_count": null,
      "outputs": []
    },
    {
      "cell_type": "code",
      "source": [
        "# data path\n",
        "data_path = 'fra.txt'"
      ],
      "metadata": {
        "id": "bMSkEia4DcdD"
      },
      "execution_count": null,
      "outputs": []
    },
    {
      "cell_type": "code",
      "source": [
        "# Vectorising the data\n",
        "input_texts = []\n",
        "target_texts = []\n",
        "input_char = set()\n",
        "target_char = set()\n",
        "\n",
        "with open(data_path, 'r', encoding='utf-8') as f:\n",
        "  lines = f.read().split('\\n')\n",
        "\n",
        "for line in lines[: min(num_samples, len(lines)-1)]:\n",
        "  input_txt, target_txt, _ = line.split('\\t')\n",
        "\n",
        "  target_txt = '\\t' + target_txt + '\\n'\n",
        "  input_texts.append(input_txt)\n",
        "  target_texts.append(target_txt)\n",
        "\n",
        "  for char in input_txt:\n",
        "    if char not in input_char:\n",
        "      input_char.add(char)\n",
        "\n",
        "  for char in target_txt:\n",
        "    if char not in target_char:\n",
        "      target_char.add(char)"
      ],
      "metadata": {
        "id": "AALpMwVqDfGX"
      },
      "execution_count": null,
      "outputs": []
    },
    {
      "cell_type": "code",
      "source": [
        "input_char = sorted(list(input_char))\n",
        "target_char = sorted(list(target_char))\n",
        "num_encoder_tokens = len(input_char)\n",
        "num_decoder_tokens = len(target_char)\n",
        "max_encoder_seq_length = max([len(txt) for txt in input_texts])\n",
        "max_decoder_seq_length = max([len(txt) for txt in target_texts])"
      ],
      "metadata": {
        "id": "8aq3HRtnFLkh"
      },
      "execution_count": null,
      "outputs": []
    },
    {
      "cell_type": "code",
      "source": [
        "print(\"No of samples: \", len(input_texts))\n",
        "print(\"No of unique input tokens: \", num_encoder_tokens)\n",
        "print(\"No of unique output tokens: \", num_decoder_tokens)\n",
        "print('Max seq len for input: ', max_encoder_seq_length)\n",
        "print('Max seq len for output: ', max_decoder_seq_length)"
      ],
      "metadata": {
        "colab": {
          "base_uri": "https://localhost:8080/"
        },
        "id": "lw8lw2oSFyRi",
        "outputId": "4952c382-355a-4ceb-9a97-6c42776f0053"
      },
      "execution_count": null,
      "outputs": [
        {
          "output_type": "stream",
          "name": "stdout",
          "text": [
            "No of samples:  232736\n",
            "No of unique input tokens:  90\n",
            "No of unique output tokens:  114\n",
            "Max seq len for input:  292\n",
            "Max seq len for output:  351\n"
          ]
        }
      ]
    },
    {
      "cell_type": "code",
      "source": [
        "input_token_index = dict(\n",
        "    [(char, i) for i, char in enumerate(input_char)]\n",
        ")\n",
        "\n",
        "target_token_index = dict(\n",
        "    [(char, i) for i, char in enumerate(target_char)]\n",
        ")"
      ],
      "metadata": {
        "id": "NydwyuZ_Glqb"
      },
      "execution_count": null,
      "outputs": []
    },
    {
      "cell_type": "code",
      "source": [
        "encoder_input_data = np.zeros(\n",
        "    (len(input_texts), max_encoder_seq_length, num_encoder_tokens), dtype='float32'\n",
        ")\n",
        "\n",
        "decoder_input_data = np.zeros(\n",
        "    (len(input_texts), max_decoder_seq_length, num_decoder_tokens),  dtype='float32'\n",
        ")\n",
        "\n",
        "decoder_target_data = np.zeros(\n",
        "    (len(input_texts), max_decoder_seq_length, num_decoder_tokens),  dtype='float32'\n",
        ")"
      ],
      "metadata": {
        "id": "kMI2ftUyHcwE"
      },
      "execution_count": null,
      "outputs": []
    },
    {
      "cell_type": "code",
      "source": [
        "# one hot encoding\n",
        "\n",
        "for i, (input_txt, target_txt) in enumerate(zip(input_texts, target_texts)):\n",
        "  for t, char in enumerate(input_txt):\n",
        "    encoder_input_data[i, t, input_token_index[char]] = 1.0\n",
        "  encoder_input_data[i, t+1: , input_token_index[' ']] = 1.0\n",
        "\n",
        "  for t, char in enumerate(target_txt):\n",
        "    decoder_target_data[i, t, target_token_index[char]] = 1.0\n",
        "\n",
        "    if t > 0:\n",
        "      decoder_target_data[i, t-1, target_token_index[char]] = 1.0\n",
        "  decoder_input_data[i, t+1: , target_token_index[' ']] = 1.0\n",
        "  decoder_target_data[i, t: , target_token_index[' ']] = 1.0"
      ],
      "metadata": {
        "id": "wivVKTMmJCPa"
      },
      "execution_count": null,
      "outputs": []
    },
    {
      "cell_type": "code",
      "source": [
        "# define an input sequence and process it\n",
        "encoder_inputs = Input(shape=(None, num_encoder_tokens))\n",
        "encoder = LSTM(latent_dim, return_state = True)\n",
        "encoder_output, state_h, state_c = encoder(encoder_inputs)\n",
        "\n",
        "encoder_states = [state_h, state_c]"
      ],
      "metadata": {
        "id": "s-elSWj9LOfg"
      },
      "execution_count": null,
      "outputs": []
    },
    {
      "cell_type": "code",
      "source": [
        "# setup decoder using encoder_state as initial state\n",
        "decoder_inputs = Input(shape=(None, num_decoder_tokens))\n",
        "\n",
        "decoder_lstm = LSTM(latent_dim, return_sequences=True, return_state=True)\n",
        "decoder_outputs, _, _ = decoder_lstm(decoder_inputs, initial_state=encoder_states)\n",
        "\n",
        "decoder_dense = Dense(num_decoder_tokens, activation='softmax')\n",
        "decoder_outputs = decoder_dense(decoder_outputs)"
      ],
      "metadata": {
        "id": "YZFDnSpXRoTy"
      },
      "execution_count": null,
      "outputs": []
    },
    {
      "cell_type": "code",
      "source": [
        "# creating the model\n",
        "model = Model([encoder_inputs, decoder_inputs], decoder_outputs)\n",
        "\n",
        "model.compile(\n",
        "    optimizer='rmsprop', loss='categorical_crossentropy', metrics=['accuracy']\n",
        ")\n"
      ],
      "metadata": {
        "id": "IABIOZs7SnmZ"
      },
      "execution_count": null,
      "outputs": []
    },
    {
      "cell_type": "code",
      "source": [
        "model.fit([encoder_input_data, decoder_input_data],\n",
        "          decoder_target_data,\n",
        "          batch_size = batch_size,\n",
        "          epochs=epochs,\n",
        "          validation_split=0.2\n",
        "          )"
      ],
      "metadata": {
        "id": "Vbw7y-lCTtmM"
      },
      "execution_count": null,
      "outputs": []
    },
    {
      "cell_type": "code",
      "source": [
        "# Define sampling models\n",
        "encoder_inputs = model.input[0]  # input_1\n",
        "encoder_outputs, state_h_enc, state_c_enc = model.layers[2].output  # lstm_1\n",
        "encoder_states = [state_h_enc, state_c_enc]\n",
        "encoder_model = keras.Model(encoder_inputs, encoder_states)\n",
        "\n",
        "decoder_inputs = model.input[1]  # input_2\n",
        "decoder_state_input_h = keras.Input(shape=(latent_dim,))\n",
        "decoder_state_input_c = keras.Input(shape=(latent_dim,))\n",
        "decoder_states_inputs = [decoder_state_input_h, decoder_state_input_c]\n",
        "decoder_lstm = model.layers[3]\n",
        "decoder_outputs, state_h_dec, state_c_dec = decoder_lstm(\n",
        "    decoder_inputs, initial_state=decoder_states_inputs\n",
        ")\n",
        "decoder_states = [state_h_dec, state_c_dec]\n",
        "decoder_dense = model.layers[4]\n",
        "decoder_outputs = decoder_dense(decoder_outputs)\n",
        "decoder_model = keras.Model(\n",
        "    [decoder_inputs] + decoder_states_inputs, [decoder_outputs] + decoder_states\n",
        ")\n",
        "\n",
        "# Reverse-lookup token index to decode sequences back to\n",
        "# something readable.\n",
        "reverse_input_char_index = dict((i, char) for char, i in input_token_index.items())\n",
        "reverse_target_char_index = dict((i, char) for char, i in target_token_index.items())"
      ],
      "metadata": {
        "id": "6gPbgl1auBc3"
      },
      "execution_count": null,
      "outputs": []
    },
    {
      "cell_type": "code",
      "source": [
        "def decode_sequence(input_seq):\n",
        "    # Encode the input as state vectors.\n",
        "    states_value = encoder_model.predict(input_seq)\n",
        "\n",
        "    # Generate empty target sequence of length 1.\n",
        "    target_seq = np.zeros((1, 1, num_decoder_tokens))\n",
        "    # Populate the first character of target sequence with the start character.\n",
        "    target_seq[0, 0, target_token_index['\\t']] = 1.\n",
        "\n",
        "    # Sampling loop for a batch of sequences\n",
        "    # (to simplify, here we assume a batch of size 1).\n",
        "    stop_condition = False\n",
        "    decoded_sentence = ''\n",
        "    while not stop_condition:\n",
        "        output_tokens, h, c = decoder_model.predict(\n",
        "            [target_seq] + states_value)\n",
        "\n",
        "        # Sample a token\n",
        "        sampled_token_index = np.argmax(output_tokens[0, -1, :])\n",
        "        sampled_char = reverse_target_char_index[sampled_token_index]\n",
        "        decoded_sentence += sampled_char\n",
        "\n",
        "        # Exit condition: either hit max length\n",
        "        # or find stop character.\n",
        "        if (sampled_char == '\\n' or\n",
        "           len(decoded_sentence) > max_decoder_seq_length):\n",
        "            stop_condition = True\n",
        "\n",
        "        # Update the target sequence (of length 1).\n",
        "        target_seq = np.zeros((1, 1, num_decoder_tokens))\n",
        "        target_seq[0, 0, sampled_token_index] = 1.\n",
        "\n",
        "        # Update states\n",
        "        states_value = [h, c]\n",
        "\n",
        "    return decoded_sentence"
      ],
      "metadata": {
        "id": "5htHSv0xTuR9"
      },
      "execution_count": null,
      "outputs": []
    },
    {
      "cell_type": "code",
      "source": [
        "for seq_index in range(20):\n",
        "    # Take one sequence (part of the training set)\n",
        "    # for trying out decoding.\n",
        "    input_seq = encoder_input_data[seq_index : seq_index + 1]\n",
        "    decoded_sentence = decode_sequence(input_seq)\n",
        "    print(\"-\")\n",
        "    print(\"Input sentence:\", input_texts[seq_index])\n",
        "    print(\"Decoded sentence:\", decoded_sentence)"
      ],
      "metadata": {
        "id": "vq1tYIWyuKaW"
      },
      "execution_count": null,
      "outputs": []
    }
  ]
}
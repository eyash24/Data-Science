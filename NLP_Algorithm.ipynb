{
  "nbformat": 4,
  "nbformat_minor": 0,
  "metadata": {
    "colab": {
      "provenance": [],
      "authorship_tag": "ABX9TyMGW2YZLWPbNsmzjtXaqOli",
      "include_colab_link": true
    },
    "kernelspec": {
      "name": "python3",
      "display_name": "Python 3"
    },
    "language_info": {
      "name": "python"
    }
  },
  "cells": [
    {
      "cell_type": "markdown",
      "metadata": {
        "id": "view-in-github",
        "colab_type": "text"
      },
      "source": [
        "<a href=\"https://colab.research.google.com/github/eyash24/Data-Science/blob/main/NLP_Algorithm.ipynb\" target=\"_parent\"><img src=\"https://colab.research.google.com/assets/colab-badge.svg\" alt=\"Open In Colab\"/></a>"
      ]
    },
    {
      "cell_type": "markdown",
      "source": [
        "# Natural Language Processing\n",
        "following Krish Naik's Live NLP playlist:\n",
        "https://youtube.com/playlist?list=PLZoTAELRMXVNNrHSKv36Lr3_156yCo6Nn&si=CRYb7Xci5OAeJ6ja"
      ],
      "metadata": {
        "id": "IoFQH6lRM7SP"
      }
    },
    {
      "cell_type": "code",
      "execution_count": 1,
      "metadata": {
        "colab": {
          "base_uri": "https://localhost:8080/"
        },
        "id": "yZYBtHUUiUAb",
        "outputId": "304647f9-5277-425a-e488-50df682f07ce"
      },
      "outputs": [
        {
          "output_type": "stream",
          "name": "stdout",
          "text": [
            "Requirement already satisfied: nltk in /usr/local/lib/python3.10/dist-packages (3.8.1)\n",
            "Requirement already satisfied: click in /usr/local/lib/python3.10/dist-packages (from nltk) (8.1.7)\n",
            "Requirement already satisfied: joblib in /usr/local/lib/python3.10/dist-packages (from nltk) (1.4.2)\n",
            "Requirement already satisfied: regex>=2021.8.3 in /usr/local/lib/python3.10/dist-packages (from nltk) (2024.5.15)\n",
            "Requirement already satisfied: tqdm in /usr/local/lib/python3.10/dist-packages (from nltk) (4.66.4)\n"
          ]
        }
      ],
      "source": [
        "!pip install nltk"
      ]
    },
    {
      "cell_type": "code",
      "source": [
        "paragraph = '''\n",
        "A man of the masses, firm in his political convictions. On October 13, 1999, he took charge as Prime Minister of India for the second consecutive term at the head of a new coalition government, the National Democratic Alliance. He was Prime Minister for a short period in 1996. He is the first Prime Minister since Pandit Jawaharlal Nehru to have become Prime Minister of India with two successive mandates.\n",
        "\n",
        "A veteran Parliamentarian whose career stretches over four decades, Shri Vajpayee has been elected to the Lok Sabha (House of the People) nine times and to the Rajya Sabha (House of the States) twice, a record by itself.\n",
        "\n",
        "As India’s Prime Minister, Foreign Minister, Chairperson of various important Standing Committees of Parliament and Leader of the Opposition, he has been an active participant in shaping India’s post-Independence domestic and foreign policy.\n",
        "\n",
        "Shri Vajpayee’s first brush with nationalist politics was in his student days, when he joined the Quit India Movement of 1942 which hastened the end of British colonial rule. A student of political science and law, it was in college that he developed a keen interest in foreign affairs – an interest he has nourished over the years and put to skilful use while representing India at various multilateral and bilateral fora.\n",
        "\n",
        "Shri Vajpayee had embarked upon a journalist’s career, which was cut short in 1951 when he joined the Bharatiya Jana Sangh, the fore-runner of today’s Bharatiya Janata Party, the leading component of the National Democratic Alliance. A critically acclaimed poet, he still takes time off from affairs of state of indulge in music and in a bit of gourmet cooking.\n",
        "'''"
      ],
      "metadata": {
        "id": "jOKiP5LPxu37"
      },
      "execution_count": 2,
      "outputs": []
    },
    {
      "cell_type": "code",
      "source": [
        "paragraph"
      ],
      "metadata": {
        "colab": {
          "base_uri": "https://localhost:8080/",
          "height": 140
        },
        "id": "rjzazU3IyCHj",
        "outputId": "5ac35b1e-c866-4b38-d414-4873e093450f"
      },
      "execution_count": 3,
      "outputs": [
        {
          "output_type": "execute_result",
          "data": {
            "text/plain": [
              "'\\nA man of the masses, firm in his political convictions. On October 13, 1999, he took charge as Prime Minister of India for the second consecutive term at the head of a new coalition government, the National Democratic Alliance. He was Prime Minister for a short period in 1996. He is the first Prime Minister since Pandit Jawaharlal Nehru to have become Prime Minister of India with two successive mandates.\\n\\nA veteran Parliamentarian whose career stretches over four decades, Shri Vajpayee has been elected to the Lok Sabha (House of the People) nine times and to the Rajya Sabha (House of the States) twice, a record by itself.\\n\\nAs India’s Prime Minister, Foreign Minister, Chairperson of various important Standing Committees of Parliament and Leader of the Opposition, he has been an active participant in shaping India’s post-Independence domestic and foreign policy.\\n\\nShri Vajpayee’s first brush with nationalist politics was in his student days, when he joined the Quit India Movement of 1942 which hastened the end of British colonial rule. A student of political science and law, it was in college that he developed a keen interest in foreign affairs – an interest he has nourished over the years and put to skilful use while representing India at various multilateral and bilateral fora.\\n\\nShri Vajpayee had embarked upon a journalist’s career, which was cut short in 1951 when he joined the Bharatiya Jana Sangh, the fore-runner of today’s Bharatiya Janata Party, the leading component of the National Democratic Alliance. A critically acclaimed poet, he still takes time off from affairs of state of indulge in music and in a bit of gourmet cooking.\\n'"
            ],
            "application/vnd.google.colaboratory.intrinsic+json": {
              "type": "string"
            }
          },
          "metadata": {},
          "execution_count": 3
        }
      ]
    },
    {
      "cell_type": "code",
      "source": [
        "import nltk\n",
        "from nltk.stem import PorterStemmer\n",
        "from nltk.corpus import stopwords"
      ],
      "metadata": {
        "id": "q9HDm3L1yFYR"
      },
      "execution_count": 4,
      "outputs": []
    },
    {
      "cell_type": "code",
      "source": [
        "# Tokenisation\n",
        "# converts paragraph into sentences\n",
        "# focus on the words\n",
        "\n",
        "nltk.download('punkt')\n",
        "nltk.sent_tokenize(paragraph)"
      ],
      "metadata": {
        "colab": {
          "base_uri": "https://localhost:8080/"
        },
        "id": "G-tz9nS6yeWL",
        "outputId": "35f28735-691a-47b4-981d-8036c470886b"
      },
      "execution_count": 6,
      "outputs": [
        {
          "output_type": "stream",
          "name": "stderr",
          "text": [
            "[nltk_data] Downloading package punkt to /root/nltk_data...\n",
            "[nltk_data]   Package punkt is already up-to-date!\n"
          ]
        },
        {
          "output_type": "execute_result",
          "data": {
            "text/plain": [
              "['\\nA man of the masses, firm in his political convictions.',\n",
              " 'On October 13, 1999, he took charge as Prime Minister of India for the second consecutive term at the head of a new coalition government, the National Democratic Alliance.',\n",
              " 'He was Prime Minister for a short period in 1996.',\n",
              " 'He is the first Prime Minister since Pandit Jawaharlal Nehru to have become Prime Minister of India with two successive mandates.',\n",
              " 'A veteran Parliamentarian whose career stretches over four decades, Shri Vajpayee has been elected to the Lok Sabha (House of the People) nine times and to the Rajya Sabha (House of the States) twice, a record by itself.',\n",
              " 'As India’s Prime Minister, Foreign Minister, Chairperson of various important Standing Committees of Parliament and Leader of the Opposition, he has been an active participant in shaping India’s post-Independence domestic and foreign policy.',\n",
              " 'Shri Vajpayee’s first brush with nationalist politics was in his student days, when he joined the Quit India Movement of 1942 which hastened the end of British colonial rule.',\n",
              " 'A student of political science and law, it was in college that he developed a keen interest in foreign affairs – an interest he has nourished over the years and put to skilful use while representing India at various multilateral and bilateral fora.',\n",
              " 'Shri Vajpayee had embarked upon a journalist’s career, which was cut short in 1951 when he joined the Bharatiya Jana Sangh, the fore-runner of today’s Bharatiya Janata Party, the leading component of the National Democratic Alliance.',\n",
              " 'A critically acclaimed poet, he still takes time off from affairs of state of indulge in music and in a bit of gourmet cooking.']"
            ]
          },
          "metadata": {},
          "execution_count": 6
        }
      ]
    },
    {
      "cell_type": "code",
      "source": [
        "sentences = nltk.sent_tokenize(paragraph)"
      ],
      "metadata": {
        "id": "oEX45EIxy0C8"
      },
      "execution_count": 7,
      "outputs": []
    },
    {
      "cell_type": "code",
      "source": [
        "sentences"
      ],
      "metadata": {
        "colab": {
          "base_uri": "https://localhost:8080/"
        },
        "id": "0WnE11iyy_5-",
        "outputId": "cc7293eb-d332-4729-95cf-62ca0295fb06"
      },
      "execution_count": 8,
      "outputs": [
        {
          "output_type": "execute_result",
          "data": {
            "text/plain": [
              "['\\nA man of the masses, firm in his political convictions.',\n",
              " 'On October 13, 1999, he took charge as Prime Minister of India for the second consecutive term at the head of a new coalition government, the National Democratic Alliance.',\n",
              " 'He was Prime Minister for a short period in 1996.',\n",
              " 'He is the first Prime Minister since Pandit Jawaharlal Nehru to have become Prime Minister of India with two successive mandates.',\n",
              " 'A veteran Parliamentarian whose career stretches over four decades, Shri Vajpayee has been elected to the Lok Sabha (House of the People) nine times and to the Rajya Sabha (House of the States) twice, a record by itself.',\n",
              " 'As India’s Prime Minister, Foreign Minister, Chairperson of various important Standing Committees of Parliament and Leader of the Opposition, he has been an active participant in shaping India’s post-Independence domestic and foreign policy.',\n",
              " 'Shri Vajpayee’s first brush with nationalist politics was in his student days, when he joined the Quit India Movement of 1942 which hastened the end of British colonial rule.',\n",
              " 'A student of political science and law, it was in college that he developed a keen interest in foreign affairs – an interest he has nourished over the years and put to skilful use while representing India at various multilateral and bilateral fora.',\n",
              " 'Shri Vajpayee had embarked upon a journalist’s career, which was cut short in 1951 when he joined the Bharatiya Jana Sangh, the fore-runner of today’s Bharatiya Janata Party, the leading component of the National Democratic Alliance.',\n",
              " 'A critically acclaimed poet, he still takes time off from affairs of state of indulge in music and in a bit of gourmet cooking.']"
            ]
          },
          "metadata": {},
          "execution_count": 8
        }
      ]
    },
    {
      "cell_type": "code",
      "source": [
        "type(sentences)"
      ],
      "metadata": {
        "colab": {
          "base_uri": "https://localhost:8080/"
        },
        "id": "Y-66EAgaFhNR",
        "outputId": "c3eec49a-d08b-4df0-e676-5b2b082c832f"
      },
      "execution_count": 9,
      "outputs": [
        {
          "output_type": "execute_result",
          "data": {
            "text/plain": [
              "list"
            ]
          },
          "metadata": {},
          "execution_count": 9
        }
      ]
    },
    {
      "cell_type": "code",
      "source": [
        "stemmer = PorterStemmer()"
      ],
      "metadata": {
        "id": "LhgmO5VLzBXG"
      },
      "execution_count": 10,
      "outputs": []
    },
    {
      "cell_type": "code",
      "source": [
        "stemmer.stem('thinking')"
      ],
      "metadata": {
        "colab": {
          "base_uri": "https://localhost:8080/",
          "height": 35
        },
        "id": "4X9Zl-kszMM9",
        "outputId": "d9e25244-67c2-4151-f63a-b218c85def00"
      },
      "execution_count": 11,
      "outputs": [
        {
          "output_type": "execute_result",
          "data": {
            "text/plain": [
              "'think'"
            ],
            "application/vnd.google.colaboratory.intrinsic+json": {
              "type": "string"
            }
          },
          "metadata": {},
          "execution_count": 11
        }
      ]
    },
    {
      "cell_type": "code",
      "source": [
        "stemmer.stem('history')"
      ],
      "metadata": {
        "colab": {
          "base_uri": "https://localhost:8080/",
          "height": 35
        },
        "id": "5KWMpl3nzYdU",
        "outputId": "e853e937-0d20-4d4b-923c-1187a1920341"
      },
      "execution_count": 12,
      "outputs": [
        {
          "output_type": "execute_result",
          "data": {
            "text/plain": [
              "'histori'"
            ],
            "application/vnd.google.colaboratory.intrinsic+json": {
              "type": "string"
            }
          },
          "metadata": {},
          "execution_count": 12
        }
      ]
    },
    {
      "cell_type": "code",
      "source": [
        "stemmer.stem('drinking')"
      ],
      "metadata": {
        "colab": {
          "base_uri": "https://localhost:8080/",
          "height": 35
        },
        "id": "sVSTNm89zatF",
        "outputId": "a5c1de93-58eb-4e6c-a74e-92b2f476c04a"
      },
      "execution_count": 13,
      "outputs": [
        {
          "output_type": "execute_result",
          "data": {
            "text/plain": [
              "'drink'"
            ],
            "application/vnd.google.colaboratory.intrinsic+json": {
              "type": "string"
            }
          },
          "metadata": {},
          "execution_count": 13
        }
      ]
    },
    {
      "cell_type": "code",
      "source": [
        "stemmer.stem('going')"
      ],
      "metadata": {
        "id": "kU1Mxu1IzfPX",
        "colab": {
          "base_uri": "https://localhost:8080/",
          "height": 35
        },
        "outputId": "ca5f8b8b-4667-434e-b8af-648bf1e07d46"
      },
      "execution_count": 14,
      "outputs": [
        {
          "output_type": "execute_result",
          "data": {
            "text/plain": [
              "'go'"
            ],
            "application/vnd.google.colaboratory.intrinsic+json": {
              "type": "string"
            }
          },
          "metadata": {},
          "execution_count": 14
        }
      ]
    },
    {
      "cell_type": "code",
      "source": [
        "from nltk.stem import WordNetLemmatizer\n",
        "nltk.download('wordnet')"
      ],
      "metadata": {
        "colab": {
          "base_uri": "https://localhost:8080/"
        },
        "id": "KPcv5xtGFwXu",
        "outputId": "32a1a55a-90b8-4f38-8dd2-822c56f03882"
      },
      "execution_count": 18,
      "outputs": [
        {
          "output_type": "stream",
          "name": "stderr",
          "text": [
            "[nltk_data] Downloading package wordnet to /root/nltk_data...\n"
          ]
        },
        {
          "output_type": "execute_result",
          "data": {
            "text/plain": [
              "True"
            ]
          },
          "metadata": {},
          "execution_count": 18
        }
      ]
    },
    {
      "cell_type": "code",
      "source": [
        "lemmatizer = WordNetLemmatizer()"
      ],
      "metadata": {
        "id": "icurwZN3F8Lw"
      },
      "execution_count": 19,
      "outputs": []
    },
    {
      "cell_type": "code",
      "source": [
        "lemmatizer.lemmatize('history')"
      ],
      "metadata": {
        "colab": {
          "base_uri": "https://localhost:8080/",
          "height": 35
        },
        "id": "GPKARi_ZGEF7",
        "outputId": "9ff1b785-e73d-468f-a4ac-d2a59406516f"
      },
      "execution_count": 20,
      "outputs": [
        {
          "output_type": "execute_result",
          "data": {
            "text/plain": [
              "'history'"
            ],
            "application/vnd.google.colaboratory.intrinsic+json": {
              "type": "string"
            }
          },
          "metadata": {},
          "execution_count": 20
        }
      ]
    },
    {
      "cell_type": "code",
      "source": [
        "lemmatizer.lemmatize('going')"
      ],
      "metadata": {
        "colab": {
          "base_uri": "https://localhost:8080/",
          "height": 35
        },
        "id": "ov5GCjKUGL3p",
        "outputId": "3ca2f62d-2444-4012-8431-e6efb1749f6d"
      },
      "execution_count": 21,
      "outputs": [
        {
          "output_type": "execute_result",
          "data": {
            "text/plain": [
              "'going'"
            ],
            "application/vnd.google.colaboratory.intrinsic+json": {
              "type": "string"
            }
          },
          "metadata": {},
          "execution_count": 21
        }
      ]
    },
    {
      "cell_type": "code",
      "source": [
        "len(sentences)"
      ],
      "metadata": {
        "colab": {
          "base_uri": "https://localhost:8080/"
        },
        "id": "wu_7_E39Gjv1",
        "outputId": "4894bd69-0d13-4a36-b9b9-5899f1f5560d"
      },
      "execution_count": 22,
      "outputs": [
        {
          "output_type": "execute_result",
          "data": {
            "text/plain": [
              "10"
            ]
          },
          "metadata": {},
          "execution_count": 22
        }
      ]
    },
    {
      "cell_type": "code",
      "source": [
        "# Clean the entire text\n",
        "import re"
      ],
      "metadata": {
        "id": "gZzEkcfuGYHJ"
      },
      "execution_count": 23,
      "outputs": []
    },
    {
      "cell_type": "code",
      "source": [
        "corpus = []\n",
        "\n",
        "for i in range(len(sentences)):\n",
        "  clean_sent = re.sub('[^a-zA-Z]', ' ', sentences[i])\n",
        "  clean_sent = clean_sent.lower()\n",
        "  corpus.append(clean_sent)"
      ],
      "metadata": {
        "id": "FXjXQDUiGpDt"
      },
      "execution_count": 25,
      "outputs": []
    },
    {
      "cell_type": "code",
      "source": [
        "corpus"
      ],
      "metadata": {
        "colab": {
          "base_uri": "https://localhost:8080/"
        },
        "id": "0panBUMkHQcC",
        "outputId": "2fed2d8f-43c5-43e8-92ce-566aba09688f"
      },
      "execution_count": 26,
      "outputs": [
        {
          "output_type": "execute_result",
          "data": {
            "text/plain": [
              "[' a man of the masses  firm in his political convictions ',\n",
              " 'on october           he took charge as prime minister of india for the second consecutive term at the head of a new coalition government  the national democratic alliance ',\n",
              " 'he was prime minister for a short period in      ',\n",
              " 'he is the first prime minister since pandit jawaharlal nehru to have become prime minister of india with two successive mandates ',\n",
              " 'a veteran parliamentarian whose career stretches over four decades  shri vajpayee has been elected to the lok sabha  house of the people  nine times and to the rajya sabha  house of the states  twice  a record by itself ',\n",
              " 'as india s prime minister  foreign minister  chairperson of various important standing committees of parliament and leader of the opposition  he has been an active participant in shaping india s post independence domestic and foreign policy ',\n",
              " 'shri vajpayee s first brush with nationalist politics was in his student days  when he joined the quit india movement of      which hastened the end of british colonial rule ',\n",
              " 'a student of political science and law  it was in college that he developed a keen interest in foreign affairs   an interest he has nourished over the years and put to skilful use while representing india at various multilateral and bilateral fora ',\n",
              " 'shri vajpayee had embarked upon a journalist s career  which was cut short in      when he joined the bharatiya jana sangh  the fore runner of today s bharatiya janata party  the leading component of the national democratic alliance ',\n",
              " 'a critically acclaimed poet  he still takes time off from affairs of state of indulge in music and in a bit of gourmet cooking ']"
            ]
          },
          "metadata": {},
          "execution_count": 26
        }
      ]
    },
    {
      "cell_type": "code",
      "source": [
        "# stop words\n",
        "nltk.download('stopwords')\n",
        "stopwords.words('english')"
      ],
      "metadata": {
        "colab": {
          "base_uri": "https://localhost:8080/"
        },
        "collapsed": true,
        "id": "wSk-ojK7HtU0",
        "outputId": "700f4949-5f38-4ddf-9344-7dadf82b5e74"
      },
      "execution_count": 28,
      "outputs": [
        {
          "output_type": "stream",
          "name": "stderr",
          "text": [
            "[nltk_data] Downloading package stopwords to /root/nltk_data...\n",
            "[nltk_data]   Unzipping corpora/stopwords.zip.\n"
          ]
        },
        {
          "output_type": "execute_result",
          "data": {
            "text/plain": [
              "['i',\n",
              " 'me',\n",
              " 'my',\n",
              " 'myself',\n",
              " 'we',\n",
              " 'our',\n",
              " 'ours',\n",
              " 'ourselves',\n",
              " 'you',\n",
              " \"you're\",\n",
              " \"you've\",\n",
              " \"you'll\",\n",
              " \"you'd\",\n",
              " 'your',\n",
              " 'yours',\n",
              " 'yourself',\n",
              " 'yourselves',\n",
              " 'he',\n",
              " 'him',\n",
              " 'his',\n",
              " 'himself',\n",
              " 'she',\n",
              " \"she's\",\n",
              " 'her',\n",
              " 'hers',\n",
              " 'herself',\n",
              " 'it',\n",
              " \"it's\",\n",
              " 'its',\n",
              " 'itself',\n",
              " 'they',\n",
              " 'them',\n",
              " 'their',\n",
              " 'theirs',\n",
              " 'themselves',\n",
              " 'what',\n",
              " 'which',\n",
              " 'who',\n",
              " 'whom',\n",
              " 'this',\n",
              " 'that',\n",
              " \"that'll\",\n",
              " 'these',\n",
              " 'those',\n",
              " 'am',\n",
              " 'is',\n",
              " 'are',\n",
              " 'was',\n",
              " 'were',\n",
              " 'be',\n",
              " 'been',\n",
              " 'being',\n",
              " 'have',\n",
              " 'has',\n",
              " 'had',\n",
              " 'having',\n",
              " 'do',\n",
              " 'does',\n",
              " 'did',\n",
              " 'doing',\n",
              " 'a',\n",
              " 'an',\n",
              " 'the',\n",
              " 'and',\n",
              " 'but',\n",
              " 'if',\n",
              " 'or',\n",
              " 'because',\n",
              " 'as',\n",
              " 'until',\n",
              " 'while',\n",
              " 'of',\n",
              " 'at',\n",
              " 'by',\n",
              " 'for',\n",
              " 'with',\n",
              " 'about',\n",
              " 'against',\n",
              " 'between',\n",
              " 'into',\n",
              " 'through',\n",
              " 'during',\n",
              " 'before',\n",
              " 'after',\n",
              " 'above',\n",
              " 'below',\n",
              " 'to',\n",
              " 'from',\n",
              " 'up',\n",
              " 'down',\n",
              " 'in',\n",
              " 'out',\n",
              " 'on',\n",
              " 'off',\n",
              " 'over',\n",
              " 'under',\n",
              " 'again',\n",
              " 'further',\n",
              " 'then',\n",
              " 'once',\n",
              " 'here',\n",
              " 'there',\n",
              " 'when',\n",
              " 'where',\n",
              " 'why',\n",
              " 'how',\n",
              " 'all',\n",
              " 'any',\n",
              " 'both',\n",
              " 'each',\n",
              " 'few',\n",
              " 'more',\n",
              " 'most',\n",
              " 'other',\n",
              " 'some',\n",
              " 'such',\n",
              " 'no',\n",
              " 'nor',\n",
              " 'not',\n",
              " 'only',\n",
              " 'own',\n",
              " 'same',\n",
              " 'so',\n",
              " 'than',\n",
              " 'too',\n",
              " 'very',\n",
              " 's',\n",
              " 't',\n",
              " 'can',\n",
              " 'will',\n",
              " 'just',\n",
              " 'don',\n",
              " \"don't\",\n",
              " 'should',\n",
              " \"should've\",\n",
              " 'now',\n",
              " 'd',\n",
              " 'll',\n",
              " 'm',\n",
              " 'o',\n",
              " 're',\n",
              " 've',\n",
              " 'y',\n",
              " 'ain',\n",
              " 'aren',\n",
              " \"aren't\",\n",
              " 'couldn',\n",
              " \"couldn't\",\n",
              " 'didn',\n",
              " \"didn't\",\n",
              " 'doesn',\n",
              " \"doesn't\",\n",
              " 'hadn',\n",
              " \"hadn't\",\n",
              " 'hasn',\n",
              " \"hasn't\",\n",
              " 'haven',\n",
              " \"haven't\",\n",
              " 'isn',\n",
              " \"isn't\",\n",
              " 'ma',\n",
              " 'mightn',\n",
              " \"mightn't\",\n",
              " 'mustn',\n",
              " \"mustn't\",\n",
              " 'needn',\n",
              " \"needn't\",\n",
              " 'shan',\n",
              " \"shan't\",\n",
              " 'shouldn',\n",
              " \"shouldn't\",\n",
              " 'wasn',\n",
              " \"wasn't\",\n",
              " 'weren',\n",
              " \"weren't\",\n",
              " 'won',\n",
              " \"won't\",\n",
              " 'wouldn',\n",
              " \"wouldn't\"]"
            ]
          },
          "metadata": {},
          "execution_count": 28
        }
      ]
    },
    {
      "cell_type": "code",
      "source": [
        "# Stemming\n",
        "\n",
        "for i in corpus:\n",
        "  words = nltk.word_tokenize(i)\n",
        "  for word in words:\n",
        "    if word not in set(stopwords.words('english')):\n",
        "      print(stemmer.stem(word))"
      ],
      "metadata": {
        "colab": {
          "base_uri": "https://localhost:8080/"
        },
        "collapsed": true,
        "id": "TTlZqufFHWJg",
        "outputId": "714c9767-fb9b-449b-b358-c8bbaae1ebc9"
      },
      "execution_count": 29,
      "outputs": [
        {
          "output_type": "stream",
          "name": "stdout",
          "text": [
            "man\n",
            "mass\n",
            "firm\n",
            "polit\n",
            "convict\n",
            "octob\n",
            "took\n",
            "charg\n",
            "prime\n",
            "minist\n",
            "india\n",
            "second\n",
            "consecut\n",
            "term\n",
            "head\n",
            "new\n",
            "coalit\n",
            "govern\n",
            "nation\n",
            "democrat\n",
            "allianc\n",
            "prime\n",
            "minist\n",
            "short\n",
            "period\n",
            "first\n",
            "prime\n",
            "minist\n",
            "sinc\n",
            "pandit\n",
            "jawaharl\n",
            "nehru\n",
            "becom\n",
            "prime\n",
            "minist\n",
            "india\n",
            "two\n",
            "success\n",
            "mandat\n",
            "veteran\n",
            "parliamentarian\n",
            "whose\n",
            "career\n",
            "stretch\n",
            "four\n",
            "decad\n",
            "shri\n",
            "vajpaye\n",
            "elect\n",
            "lok\n",
            "sabha\n",
            "hous\n",
            "peopl\n",
            "nine\n",
            "time\n",
            "rajya\n",
            "sabha\n",
            "hous\n",
            "state\n",
            "twice\n",
            "record\n",
            "india\n",
            "prime\n",
            "minist\n",
            "foreign\n",
            "minist\n",
            "chairperson\n",
            "variou\n",
            "import\n",
            "stand\n",
            "committe\n",
            "parliament\n",
            "leader\n",
            "opposit\n",
            "activ\n",
            "particip\n",
            "shape\n",
            "india\n",
            "post\n",
            "independ\n",
            "domest\n",
            "foreign\n",
            "polici\n",
            "shri\n",
            "vajpaye\n",
            "first\n",
            "brush\n",
            "nationalist\n",
            "polit\n",
            "student\n",
            "day\n",
            "join\n",
            "quit\n",
            "india\n",
            "movement\n",
            "hasten\n",
            "end\n",
            "british\n",
            "coloni\n",
            "rule\n",
            "student\n",
            "polit\n",
            "scienc\n",
            "law\n",
            "colleg\n",
            "develop\n",
            "keen\n",
            "interest\n",
            "foreign\n",
            "affair\n",
            "interest\n",
            "nourish\n",
            "year\n",
            "put\n",
            "skil\n",
            "use\n",
            "repres\n",
            "india\n",
            "variou\n",
            "multilater\n",
            "bilater\n",
            "fora\n",
            "shri\n",
            "vajpaye\n",
            "embark\n",
            "upon\n",
            "journalist\n",
            "career\n",
            "cut\n",
            "short\n",
            "join\n",
            "bharatiya\n",
            "jana\n",
            "sangh\n",
            "fore\n",
            "runner\n",
            "today\n",
            "bharatiya\n",
            "janata\n",
            "parti\n",
            "lead\n",
            "compon\n",
            "nation\n",
            "democrat\n",
            "allianc\n",
            "critic\n",
            "acclaim\n",
            "poet\n",
            "still\n",
            "take\n",
            "time\n",
            "affair\n",
            "state\n",
            "indulg\n",
            "music\n",
            "bit\n",
            "gourmet\n",
            "cook\n"
          ]
        }
      ]
    },
    {
      "cell_type": "code",
      "source": [
        "# Lemmatization\n",
        "\n",
        "for i in corpus:\n",
        "  words = nltk.word_tokenize(i)\n",
        "  for word in words:\n",
        "    if word not in set(stopwords.words('english')):\n",
        "      print(lemmatizer.lemmatize(word))"
      ],
      "metadata": {
        "colab": {
          "base_uri": "https://localhost:8080/"
        },
        "collapsed": true,
        "id": "D9rw1NELIKST",
        "outputId": "4f7099eb-aaf8-4d95-d24b-488d36027d10"
      },
      "execution_count": 30,
      "outputs": [
        {
          "output_type": "stream",
          "name": "stdout",
          "text": [
            "man\n",
            "mass\n",
            "firm\n",
            "political\n",
            "conviction\n",
            "october\n",
            "took\n",
            "charge\n",
            "prime\n",
            "minister\n",
            "india\n",
            "second\n",
            "consecutive\n",
            "term\n",
            "head\n",
            "new\n",
            "coalition\n",
            "government\n",
            "national\n",
            "democratic\n",
            "alliance\n",
            "prime\n",
            "minister\n",
            "short\n",
            "period\n",
            "first\n",
            "prime\n",
            "minister\n",
            "since\n",
            "pandit\n",
            "jawaharlal\n",
            "nehru\n",
            "become\n",
            "prime\n",
            "minister\n",
            "india\n",
            "two\n",
            "successive\n",
            "mandate\n",
            "veteran\n",
            "parliamentarian\n",
            "whose\n",
            "career\n",
            "stretch\n",
            "four\n",
            "decade\n",
            "shri\n",
            "vajpayee\n",
            "elected\n",
            "lok\n",
            "sabha\n",
            "house\n",
            "people\n",
            "nine\n",
            "time\n",
            "rajya\n",
            "sabha\n",
            "house\n",
            "state\n",
            "twice\n",
            "record\n",
            "india\n",
            "prime\n",
            "minister\n",
            "foreign\n",
            "minister\n",
            "chairperson\n",
            "various\n",
            "important\n",
            "standing\n",
            "committee\n",
            "parliament\n",
            "leader\n",
            "opposition\n",
            "active\n",
            "participant\n",
            "shaping\n",
            "india\n",
            "post\n",
            "independence\n",
            "domestic\n",
            "foreign\n",
            "policy\n",
            "shri\n",
            "vajpayee\n",
            "first\n",
            "brush\n",
            "nationalist\n",
            "politics\n",
            "student\n",
            "day\n",
            "joined\n",
            "quit\n",
            "india\n",
            "movement\n",
            "hastened\n",
            "end\n",
            "british\n",
            "colonial\n",
            "rule\n",
            "student\n",
            "political\n",
            "science\n",
            "law\n",
            "college\n",
            "developed\n",
            "keen\n",
            "interest\n",
            "foreign\n",
            "affair\n",
            "interest\n",
            "nourished\n",
            "year\n",
            "put\n",
            "skilful\n",
            "use\n",
            "representing\n",
            "india\n",
            "various\n",
            "multilateral\n",
            "bilateral\n",
            "forum\n",
            "shri\n",
            "vajpayee\n",
            "embarked\n",
            "upon\n",
            "journalist\n",
            "career\n",
            "cut\n",
            "short\n",
            "joined\n",
            "bharatiya\n",
            "jana\n",
            "sangh\n",
            "fore\n",
            "runner\n",
            "today\n",
            "bharatiya\n",
            "janata\n",
            "party\n",
            "leading\n",
            "component\n",
            "national\n",
            "democratic\n",
            "alliance\n",
            "critically\n",
            "acclaimed\n",
            "poet\n",
            "still\n",
            "take\n",
            "time\n",
            "affair\n",
            "state\n",
            "indulge\n",
            "music\n",
            "bit\n",
            "gourmet\n",
            "cooking\n"
          ]
        }
      ]
    },
    {
      "cell_type": "code",
      "source": [
        "## Bag of words\n",
        "from sklearn.feature_extraction.text import CountVectorizer\n",
        "cv = CountVectorizer()"
      ],
      "metadata": {
        "id": "Pat4aqKgIo6K"
      },
      "execution_count": 32,
      "outputs": []
    },
    {
      "cell_type": "code",
      "source": [
        "X = cv.fit_transform(corpus)"
      ],
      "metadata": {
        "id": "fcrkEJe4I9GW"
      },
      "execution_count": 33,
      "outputs": []
    },
    {
      "cell_type": "code",
      "source": [
        "cv.vocabulary_"
      ],
      "metadata": {
        "colab": {
          "base_uri": "https://localhost:8080/"
        },
        "collapsed": true,
        "id": "ohvnF0qOJDMf",
        "outputId": "a299c3c1-53d6-4d39-b8b3-47cd83900c80"
      },
      "execution_count": 35,
      "outputs": [
        {
          "output_type": "execute_result",
          "data": {
            "text/plain": [
              "{'man': 74,\n",
              " 'of': 88,\n",
              " 'the': 132,\n",
              " 'masses': 76,\n",
              " 'firm': 37,\n",
              " 'in': 56,\n",
              " 'his': 53,\n",
              " 'political': 102,\n",
              " 'convictions': 25,\n",
              " 'on': 90,\n",
              " 'october': 87,\n",
              " 'he': 51,\n",
              " 'took': 137,\n",
              " 'charge': 18,\n",
              " 'as': 6,\n",
              " 'prime': 105,\n",
              " 'minister': 77,\n",
              " 'india': 58,\n",
              " 'for': 39,\n",
              " 'second': 116,\n",
              " 'consecutive': 24,\n",
              " 'term': 130,\n",
              " 'at': 7,\n",
              " 'head': 52,\n",
              " 'new': 84,\n",
              " 'coalition': 19,\n",
              " 'government': 46,\n",
              " 'national': 81,\n",
              " 'democratic': 31,\n",
              " 'alliance': 3,\n",
              " 'was': 145,\n",
              " 'short': 118,\n",
              " 'period': 99,\n",
              " 'is': 61,\n",
              " 'first': 38,\n",
              " 'since': 120,\n",
              " 'pandit': 93,\n",
              " 'jawaharlal': 66,\n",
              " 'nehru': 83,\n",
              " 'to': 135,\n",
              " 'have': 50,\n",
              " 'become': 8,\n",
              " 'with': 150,\n",
              " 'two': 139,\n",
              " 'successive': 128,\n",
              " 'mandates': 75,\n",
              " 'veteran': 144,\n",
              " 'parliamentarian': 95,\n",
              " 'whose': 149,\n",
              " 'career': 16,\n",
              " 'stretches': 126,\n",
              " 'over': 92,\n",
              " 'four': 43,\n",
              " 'decades': 30,\n",
              " 'shri': 119,\n",
              " 'vajpayee': 142,\n",
              " 'has': 48,\n",
              " 'been': 9,\n",
              " 'elected': 34,\n",
              " 'lok': 73,\n",
              " 'sabha': 113,\n",
              " 'house': 54,\n",
              " 'people': 98,\n",
              " 'nine': 85,\n",
              " 'times': 134,\n",
              " 'and': 5,\n",
              " 'rajya': 108,\n",
              " 'states': 124,\n",
              " 'twice': 138,\n",
              " 'record': 109,\n",
              " 'by': 15,\n",
              " 'itself': 63,\n",
              " 'foreign': 42,\n",
              " 'chairperson': 17,\n",
              " 'various': 143,\n",
              " 'important': 55,\n",
              " 'standing': 122,\n",
              " 'committees': 22,\n",
              " 'parliament': 94,\n",
              " 'leader': 71,\n",
              " 'opposition': 91,\n",
              " 'an': 4,\n",
              " 'active': 1,\n",
              " 'participant': 96,\n",
              " 'shaping': 117,\n",
              " 'post': 104,\n",
              " 'independence': 57,\n",
              " 'domestic': 33,\n",
              " 'policy': 101,\n",
              " 'brush': 14,\n",
              " 'nationalist': 82,\n",
              " 'politics': 103,\n",
              " 'student': 127,\n",
              " 'days': 29,\n",
              " 'when': 146,\n",
              " 'joined': 67,\n",
              " 'quit': 107,\n",
              " 'movement': 78,\n",
              " 'which': 147,\n",
              " 'hastened': 49,\n",
              " 'end': 36,\n",
              " 'british': 13,\n",
              " 'colonial': 21,\n",
              " 'rule': 111,\n",
              " 'science': 115,\n",
              " 'law': 70,\n",
              " 'it': 62,\n",
              " 'college': 20,\n",
              " 'that': 131,\n",
              " 'developed': 32,\n",
              " 'keen': 69,\n",
              " 'interest': 60,\n",
              " 'affairs': 2,\n",
              " 'nourished': 86,\n",
              " 'years': 151,\n",
              " 'put': 106,\n",
              " 'skilful': 121,\n",
              " 'use': 141,\n",
              " 'while': 148,\n",
              " 'representing': 110,\n",
              " 'multilateral': 79,\n",
              " 'bilateral': 11,\n",
              " 'fora': 40,\n",
              " 'had': 47,\n",
              " 'embarked': 35,\n",
              " 'upon': 140,\n",
              " 'journalist': 68,\n",
              " 'cut': 28,\n",
              " 'bharatiya': 10,\n",
              " 'jana': 64,\n",
              " 'sangh': 114,\n",
              " 'fore': 41,\n",
              " 'runner': 112,\n",
              " 'today': 136,\n",
              " 'janata': 65,\n",
              " 'party': 97,\n",
              " 'leading': 72,\n",
              " 'component': 23,\n",
              " 'critically': 27,\n",
              " 'acclaimed': 0,\n",
              " 'poet': 100,\n",
              " 'still': 125,\n",
              " 'takes': 129,\n",
              " 'time': 133,\n",
              " 'off': 89,\n",
              " 'from': 44,\n",
              " 'state': 123,\n",
              " 'indulge': 59,\n",
              " 'music': 80,\n",
              " 'bit': 12,\n",
              " 'gourmet': 45,\n",
              " 'cooking': 26}"
            ]
          },
          "metadata": {},
          "execution_count": 35
        }
      ]
    },
    {
      "cell_type": "code",
      "source": [
        "corpus[0]"
      ],
      "metadata": {
        "colab": {
          "base_uri": "https://localhost:8080/",
          "height": 35
        },
        "id": "kjG6kpK1JF1H",
        "outputId": "cd7d5a44-2778-4dc6-dfaf-174fa38ce77f"
      },
      "execution_count": 36,
      "outputs": [
        {
          "output_type": "execute_result",
          "data": {
            "text/plain": [
              "' a man of the masses  firm in his political convictions '"
            ],
            "application/vnd.google.colaboratory.intrinsic+json": {
              "type": "string"
            }
          },
          "metadata": {},
          "execution_count": 36
        }
      ]
    },
    {
      "cell_type": "code",
      "source": [
        "X[0].toarray()"
      ],
      "metadata": {
        "colab": {
          "base_uri": "https://localhost:8080/"
        },
        "id": "DDR6lKh4JPm4",
        "outputId": "9307cd5d-ebce-4852-8cd9-af97d5ed5afa"
      },
      "execution_count": 37,
      "outputs": [
        {
          "output_type": "execute_result",
          "data": {
            "text/plain": [
              "array([[0, 0, 0, 0, 0, 0, 0, 0, 0, 0, 0, 0, 0, 0, 0, 0, 0, 0, 0, 0, 0, 0,\n",
              "        0, 0, 0, 1, 0, 0, 0, 0, 0, 0, 0, 0, 0, 0, 0, 1, 0, 0, 0, 0, 0, 0,\n",
              "        0, 0, 0, 0, 0, 0, 0, 0, 0, 1, 0, 0, 1, 0, 0, 0, 0, 0, 0, 0, 0, 0,\n",
              "        0, 0, 0, 0, 0, 0, 0, 0, 1, 0, 1, 0, 0, 0, 0, 0, 0, 0, 0, 0, 0, 0,\n",
              "        1, 0, 0, 0, 0, 0, 0, 0, 0, 0, 0, 0, 0, 0, 1, 0, 0, 0, 0, 0, 0, 0,\n",
              "        0, 0, 0, 0, 0, 0, 0, 0, 0, 0, 0, 0, 0, 0, 0, 0, 0, 0, 0, 0, 0, 0,\n",
              "        1, 0, 0, 0, 0, 0, 0, 0, 0, 0, 0, 0, 0, 0, 0, 0, 0, 0, 0, 0]])"
            ]
          },
          "metadata": {},
          "execution_count": 37
        }
      ]
    },
    {
      "cell_type": "code",
      "source": [
        "# Binary Bag of Words\n",
        "cv2 = CountVectorizer(binary=True)"
      ],
      "metadata": {
        "id": "Wdamyo7BJUYw"
      },
      "execution_count": 38,
      "outputs": []
    },
    {
      "cell_type": "code",
      "source": [
        "X2 = cv2.fit_transform(corpus)"
      ],
      "metadata": {
        "id": "mJU7dIgMJwFb"
      },
      "execution_count": 41,
      "outputs": []
    },
    {
      "cell_type": "code",
      "source": [
        "# Apply stopwords Lemmatize\n",
        "corpus2 = []\n",
        "\n",
        "for i in range(len(sentences)):\n",
        "  review = re.sub('[^a-zA-Z]', \" \", sentences[i])\n",
        "  review = review.lower()\n",
        "  review = review.split()\n",
        "  review = [lemmatizer.lemmatize(word) for word in review if not word in set(stopwords.words('english'))]\n",
        "  review = ' '.join(review)\n",
        "  corpus2.append(review)"
      ],
      "metadata": {
        "id": "pU4p4AdzJ1wS"
      },
      "execution_count": 44,
      "outputs": []
    },
    {
      "cell_type": "code",
      "source": [
        "corpus2"
      ],
      "metadata": {
        "colab": {
          "base_uri": "https://localhost:8080/"
        },
        "id": "cQS9HS04KuRp",
        "outputId": "f6062bdc-4663-49ec-9aaa-ec1099715b72"
      },
      "execution_count": 45,
      "outputs": [
        {
          "output_type": "execute_result",
          "data": {
            "text/plain": [
              "['man mass firm political conviction',\n",
              " 'october took charge prime minister india second consecutive term head new coalition government national democratic alliance',\n",
              " 'prime minister short period',\n",
              " 'first prime minister since pandit jawaharlal nehru become prime minister india two successive mandate',\n",
              " 'veteran parliamentarian whose career stretch four decade shri vajpayee elected lok sabha house people nine time rajya sabha house state twice record',\n",
              " 'india prime minister foreign minister chairperson various important standing committee parliament leader opposition active participant shaping india post independence domestic foreign policy',\n",
              " 'shri vajpayee first brush nationalist politics student day joined quit india movement hastened end british colonial rule',\n",
              " 'student political science law college developed keen interest foreign affair interest nourished year put skilful use representing india various multilateral bilateral forum',\n",
              " 'shri vajpayee embarked upon journalist career cut short joined bharatiya jana sangh fore runner today bharatiya janata party leading component national democratic alliance',\n",
              " 'critically acclaimed poet still take time affair state indulge music bit gourmet cooking']"
            ]
          },
          "metadata": {},
          "execution_count": 45
        }
      ]
    },
    {
      "cell_type": "code",
      "source": [
        "X3 = cv2.fit_transform(corpus2)"
      ],
      "metadata": {
        "id": "lALYxIUXLKy5"
      },
      "execution_count": 47,
      "outputs": []
    },
    {
      "cell_type": "code",
      "source": [
        "corpus2[0]"
      ],
      "metadata": {
        "colab": {
          "base_uri": "https://localhost:8080/",
          "height": 35
        },
        "id": "soecfWjgLa0O",
        "outputId": "0997cd56-21b0-42bf-dd69-a24d39772b91"
      },
      "execution_count": 50,
      "outputs": [
        {
          "output_type": "execute_result",
          "data": {
            "text/plain": [
              "'man mass firm political conviction'"
            ],
            "application/vnd.google.colaboratory.intrinsic+json": {
              "type": "string"
            }
          },
          "metadata": {},
          "execution_count": 50
        }
      ]
    },
    {
      "cell_type": "code",
      "source": [
        "X3[0].toarray()"
      ],
      "metadata": {
        "colab": {
          "base_uri": "https://localhost:8080/"
        },
        "id": "F1O4z8CDLUCi",
        "outputId": "7909697f-cc72-4ddb-957e-256265b803ad"
      },
      "execution_count": 49,
      "outputs": [
        {
          "output_type": "execute_result",
          "data": {
            "text/plain": [
              "array([[0, 0, 0, 0, 0, 0, 0, 0, 0, 0, 0, 0, 0, 0, 0, 0, 0, 0, 0, 1, 0, 0,\n",
              "        0, 0, 0, 0, 0, 0, 0, 0, 0, 1, 0, 0, 0, 0, 0, 0, 0, 0, 0, 0, 0, 0,\n",
              "        0, 0, 0, 0, 0, 0, 0, 0, 0, 0, 0, 0, 0, 1, 0, 1, 0, 0, 0, 0, 0, 0,\n",
              "        0, 0, 0, 0, 0, 0, 0, 0, 0, 0, 0, 0, 0, 0, 0, 1, 0, 0, 0, 0, 0, 0,\n",
              "        0, 0, 0, 0, 0, 0, 0, 0, 0, 0, 0, 0, 0, 0, 0, 0, 0, 0, 0, 0, 0, 0,\n",
              "        0, 0, 0, 0, 0, 0, 0, 0, 0, 0, 0]])"
            ]
          },
          "metadata": {},
          "execution_count": 49
        }
      ]
    },
    {
      "cell_type": "code",
      "source": [
        "# using ngram with bag of words\n",
        "cv_ngram = CountVectorizer(binary=True, ngram_range=(3,3)) # tri-gram\n",
        "X = cv_ngram.fit_transform(corpus2)"
      ],
      "metadata": {
        "id": "4aietZBwLXbx"
      },
      "execution_count": 51,
      "outputs": []
    },
    {
      "cell_type": "markdown",
      "source": [
        "* ngram_range=(3,3) -> considers only tri-grams\n",
        "* ngram_range=(2,3) -> considers both tri- and bi-grams\n",
        "* ngram_range=(1,3) -> considers uni-, bi- and tri-gram"
      ],
      "metadata": {
        "id": "w-brTrYSYaqU"
      }
    },
    {
      "cell_type": "code",
      "source": [
        "cv_ngram.vocabulary_"
      ],
      "metadata": {
        "colab": {
          "base_uri": "https://localhost:8080/"
        },
        "collapsed": true,
        "id": "i4IC2Ky2YMH8",
        "outputId": "6fdc5932-f75c-4eaf-81c5-5d7f25737f9b"
      },
      "execution_count": 53,
      "outputs": [
        {
          "output_type": "execute_result",
          "data": {
            "text/plain": [
              "{'man mass firm': 62,\n",
              " 'mass firm political': 63,\n",
              " 'firm political conviction': 28,\n",
              " 'october took charge': 79,\n",
              " 'took charge prime': 124,\n",
              " 'charge prime minister': 13,\n",
              " 'prime minister india': 92,\n",
              " 'minister india second': 66,\n",
              " 'india second consecutive': 45,\n",
              " 'second consecutive term': 104,\n",
              " 'consecutive term head': 18,\n",
              " 'term head new': 120,\n",
              " 'head new coalition': 37,\n",
              " 'new coalition government': 76,\n",
              " 'coalition government national': 14,\n",
              " 'government national democratic': 35,\n",
              " 'national democratic alliance': 73,\n",
              " 'prime minister short': 93,\n",
              " 'minister short period': 68,\n",
              " 'first prime minister': 30,\n",
              " 'prime minister since': 94,\n",
              " 'minister since pandit': 69,\n",
              " 'since pandit jawaharlal': 110,\n",
              " 'pandit jawaharlal nehru': 81,\n",
              " 'jawaharlal nehru become': 53,\n",
              " 'nehru become prime': 75,\n",
              " 'become prime minister': 4,\n",
              " 'minister india two': 67,\n",
              " 'india two successive': 46,\n",
              " 'two successive mandate': 125,\n",
              " 'veteran parliamentarian whose': 133,\n",
              " 'parliamentarian whose career': 83,\n",
              " 'whose career stretch': 134,\n",
              " 'career stretch four': 11,\n",
              " 'stretch four decade': 116,\n",
              " 'four decade shri': 34,\n",
              " 'decade shri vajpayee': 22,\n",
              " 'shri vajpayee elected': 107,\n",
              " 'vajpayee elected lok': 128,\n",
              " 'elected lok sabha': 25,\n",
              " 'lok sabha house': 61,\n",
              " 'sabha house people': 100,\n",
              " 'house people nine': 38,\n",
              " 'people nine time': 86,\n",
              " 'nine time rajya': 77,\n",
              " 'time rajya sabha': 122,\n",
              " 'rajya sabha house': 97,\n",
              " 'sabha house state': 101,\n",
              " 'house state twice': 39,\n",
              " 'state twice record': 114,\n",
              " 'india prime minister': 44,\n",
              " 'prime minister foreign': 91,\n",
              " 'minister foreign minister': 65,\n",
              " 'foreign minister chairperson': 33,\n",
              " 'minister chairperson various': 64,\n",
              " 'chairperson various important': 12,\n",
              " 'various important standing': 131,\n",
              " 'important standing committee': 40,\n",
              " 'standing committee parliament': 112,\n",
              " 'committee parliament leader': 16,\n",
              " 'parliament leader opposition': 82,\n",
              " 'leader opposition active': 59,\n",
              " 'opposition active participant': 80,\n",
              " 'active participant shaping': 1,\n",
              " 'participant shaping india': 84,\n",
              " 'shaping india post': 105,\n",
              " 'india post independence': 43,\n",
              " 'post independence domestic': 90,\n",
              " 'independence domestic foreign': 41,\n",
              " 'domestic foreign policy': 24,\n",
              " 'shri vajpayee first': 109,\n",
              " 'vajpayee first brush': 130,\n",
              " 'first brush nationalist': 29,\n",
              " 'brush nationalist politics': 9,\n",
              " 'nationalist politics student': 74,\n",
              " 'politics student day': 89,\n",
              " 'student day joined': 117,\n",
              " 'day joined quit': 21,\n",
              " 'joined quit india': 55,\n",
              " 'quit india movement': 96,\n",
              " 'india movement hastened': 42,\n",
              " 'movement hastened end': 70,\n",
              " 'hastened end british': 36,\n",
              " 'end british colonial': 27,\n",
              " 'british colonial rule': 8,\n",
              " 'student political science': 118,\n",
              " 'political science law': 88,\n",
              " 'science law college': 103,\n",
              " 'law college developed': 58,\n",
              " 'college developed keen': 15,\n",
              " 'developed keen interest': 23,\n",
              " 'keen interest foreign': 57,\n",
              " 'interest foreign affair': 49,\n",
              " 'foreign affair interest': 32,\n",
              " 'affair interest nourished': 2,\n",
              " 'interest nourished year': 50,\n",
              " 'nourished year put': 78,\n",
              " 'year put skilful': 135,\n",
              " 'put skilful use': 95,\n",
              " 'skilful use representing': 111,\n",
              " 'use representing india': 127,\n",
              " 'representing india various': 98,\n",
              " 'india various multilateral': 47,\n",
              " 'various multilateral bilateral': 132,\n",
              " 'multilateral bilateral forum': 71,\n",
              " 'shri vajpayee embarked': 108,\n",
              " 'vajpayee embarked upon': 129,\n",
              " 'embarked upon journalist': 26,\n",
              " 'upon journalist career': 126,\n",
              " 'journalist career cut': 56,\n",
              " 'career cut short': 10,\n",
              " 'cut short joined': 20,\n",
              " 'short joined bharatiya': 106,\n",
              " 'joined bharatiya jana': 54,\n",
              " 'bharatiya jana sangh': 5,\n",
              " 'jana sangh fore': 51,\n",
              " 'sangh fore runner': 102,\n",
              " 'fore runner today': 31,\n",
              " 'runner today bharatiya': 99,\n",
              " 'today bharatiya janata': 123,\n",
              " 'bharatiya janata party': 6,\n",
              " 'janata party leading': 52,\n",
              " 'party leading component': 85,\n",
              " 'leading component national': 60,\n",
              " 'component national democratic': 17,\n",
              " 'critically acclaimed poet': 19,\n",
              " 'acclaimed poet still': 0,\n",
              " 'poet still take': 87,\n",
              " 'still take time': 115,\n",
              " 'take time affair': 119,\n",
              " 'time affair state': 121,\n",
              " 'affair state indulge': 3,\n",
              " 'state indulge music': 113,\n",
              " 'indulge music bit': 48,\n",
              " 'music bit gourmet': 72,\n",
              " 'bit gourmet cooking': 7}"
            ]
          },
          "metadata": {},
          "execution_count": 53
        }
      ]
    },
    {
      "cell_type": "code",
      "source": [
        "# TF-IDF\n",
        "from sklearn.feature_extraction.text import TfidfVectorizer\n",
        "cv = TfidfVectorizer()\n",
        "X = cv.fit_transform(corpus2)"
      ],
      "metadata": {
        "id": "0PZ40fB-YO3K"
      },
      "execution_count": 54,
      "outputs": []
    },
    {
      "cell_type": "markdown",
      "source": [
        "features within tfidfVectorizer:\n",
        "* ngram_range -> specifies ngram values\n",
        "* max_features -> builds a vocabulary that considers only the top max_features ordered by term frequency across the corpus"
      ],
      "metadata": {
        "id": "kIN-_9QjaD59"
      }
    },
    {
      "cell_type": "code",
      "source": [
        "corpus[0]"
      ],
      "metadata": {
        "colab": {
          "base_uri": "https://localhost:8080/",
          "height": 35
        },
        "id": "NA41upRQZZen",
        "outputId": "58163b00-b2ac-4880-d83f-b553f1f35ea7"
      },
      "execution_count": 55,
      "outputs": [
        {
          "output_type": "execute_result",
          "data": {
            "text/plain": [
              "' a man of the masses  firm in his political convictions '"
            ],
            "application/vnd.google.colaboratory.intrinsic+json": {
              "type": "string"
            }
          },
          "metadata": {},
          "execution_count": 55
        }
      ]
    },
    {
      "cell_type": "code",
      "source": [
        "X[0].toarray()"
      ],
      "metadata": {
        "colab": {
          "base_uri": "https://localhost:8080/"
        },
        "id": "iTAsRtPsZbDc",
        "outputId": "d93f50f2-7e67-4301-9af3-9ee92b629b58"
      },
      "execution_count": 56,
      "outputs": [
        {
          "output_type": "execute_result",
          "data": {
            "text/plain": [
              "array([[0.        , 0.        , 0.        , 0.        , 0.        ,\n",
              "        0.        , 0.        , 0.        , 0.        , 0.        ,\n",
              "        0.        , 0.        , 0.        , 0.        , 0.        ,\n",
              "        0.        , 0.        , 0.        , 0.        , 0.46015789,\n",
              "        0.        , 0.        , 0.        , 0.        , 0.        ,\n",
              "        0.        , 0.        , 0.        , 0.        , 0.        ,\n",
              "        0.        , 0.46015789, 0.        , 0.        , 0.        ,\n",
              "        0.        , 0.        , 0.        , 0.        , 0.        ,\n",
              "        0.        , 0.        , 0.        , 0.        , 0.        ,\n",
              "        0.        , 0.        , 0.        , 0.        , 0.        ,\n",
              "        0.        , 0.        , 0.        , 0.        , 0.        ,\n",
              "        0.        , 0.        , 0.46015789, 0.        , 0.46015789,\n",
              "        0.        , 0.        , 0.        , 0.        , 0.        ,\n",
              "        0.        , 0.        , 0.        , 0.        , 0.        ,\n",
              "        0.        , 0.        , 0.        , 0.        , 0.        ,\n",
              "        0.        , 0.        , 0.        , 0.        , 0.        ,\n",
              "        0.        , 0.39117625, 0.        , 0.        , 0.        ,\n",
              "        0.        , 0.        , 0.        , 0.        , 0.        ,\n",
              "        0.        , 0.        , 0.        , 0.        , 0.        ,\n",
              "        0.        , 0.        , 0.        , 0.        , 0.        ,\n",
              "        0.        , 0.        , 0.        , 0.        , 0.        ,\n",
              "        0.        , 0.        , 0.        , 0.        , 0.        ,\n",
              "        0.        , 0.        , 0.        , 0.        , 0.        ,\n",
              "        0.        , 0.        , 0.        , 0.        , 0.        ,\n",
              "        0.        ]])"
            ]
          },
          "metadata": {},
          "execution_count": 56
        }
      ]
    },
    {
      "cell_type": "markdown",
      "source": [
        "# Word2Vec"
      ],
      "metadata": {
        "id": "QEwgo6X4B7IP"
      }
    },
    {
      "cell_type": "code",
      "source": [
        "! pip install gensim"
      ],
      "metadata": {
        "colab": {
          "base_uri": "https://localhost:8080/"
        },
        "id": "xAsGBgx3B62M",
        "outputId": "f18f04da-c4a2-4041-a35f-0c7eb657813f"
      },
      "execution_count": 1,
      "outputs": [
        {
          "output_type": "stream",
          "name": "stdout",
          "text": [
            "Requirement already satisfied: gensim in /usr/local/lib/python3.10/dist-packages (4.3.2)\n",
            "Requirement already satisfied: numpy>=1.18.5 in /usr/local/lib/python3.10/dist-packages (from gensim) (1.25.2)\n",
            "Requirement already satisfied: scipy>=1.7.0 in /usr/local/lib/python3.10/dist-packages (from gensim) (1.11.4)\n",
            "Requirement already satisfied: smart-open>=1.8.1 in /usr/local/lib/python3.10/dist-packages (from gensim) (7.0.4)\n",
            "Requirement already satisfied: wrapt in /usr/local/lib/python3.10/dist-packages (from smart-open>=1.8.1->gensim) (1.14.1)\n"
          ]
        }
      ]
    },
    {
      "cell_type": "code",
      "source": [
        "import gensim"
      ],
      "metadata": {
        "id": "OZCHHDtqZeQi"
      },
      "execution_count": 2,
      "outputs": []
    },
    {
      "cell_type": "code",
      "source": [
        "from gensim.models import Word2Vec, KeyedVectors"
      ],
      "metadata": {
        "id": "6RCxGMcvCDuJ"
      },
      "execution_count": 5,
      "outputs": []
    },
    {
      "cell_type": "code",
      "source": [
        "# Reference: https://stackoverflow.com/questions/46433778/import-googlenews-vectors-negetive300-bin\n"
      ],
      "metadata": {
        "id": "TaWVMgxKCIT5"
      },
      "execution_count": 6,
      "outputs": []
    },
    {
      "cell_type": "code",
      "source": [
        "import gensim.downloader as api\n",
        "wv = api.load('word2vec-google-news-300')\n",
        "vec_king = wv['king']"
      ],
      "metadata": {
        "colab": {
          "base_uri": "https://localhost:8080/"
        },
        "id": "iZtZ5v2WC0mJ",
        "outputId": "6bbc1fcf-8189-42c5-f37f-10f782ffa8a9"
      },
      "execution_count": 8,
      "outputs": [
        {
          "output_type": "stream",
          "name": "stdout",
          "text": [
            "[==================================================] 100.0% 1662.8/1662.8MB downloaded\n"
          ]
        }
      ]
    },
    {
      "cell_type": "code",
      "source": [
        "vec_king"
      ],
      "metadata": {
        "colab": {
          "base_uri": "https://localhost:8080/"
        },
        "collapsed": true,
        "id": "YMy7qWDbDP1D",
        "outputId": "09688a00-f8b2-460e-fdb0-8e6c93d5b3bc"
      },
      "execution_count": 9,
      "outputs": [
        {
          "output_type": "execute_result",
          "data": {
            "text/plain": [
              "array([ 1.25976562e-01,  2.97851562e-02,  8.60595703e-03,  1.39648438e-01,\n",
              "       -2.56347656e-02, -3.61328125e-02,  1.11816406e-01, -1.98242188e-01,\n",
              "        5.12695312e-02,  3.63281250e-01, -2.42187500e-01, -3.02734375e-01,\n",
              "       -1.77734375e-01, -2.49023438e-02, -1.67968750e-01, -1.69921875e-01,\n",
              "        3.46679688e-02,  5.21850586e-03,  4.63867188e-02,  1.28906250e-01,\n",
              "        1.36718750e-01,  1.12792969e-01,  5.95703125e-02,  1.36718750e-01,\n",
              "        1.01074219e-01, -1.76757812e-01, -2.51953125e-01,  5.98144531e-02,\n",
              "        3.41796875e-01, -3.11279297e-02,  1.04492188e-01,  6.17675781e-02,\n",
              "        1.24511719e-01,  4.00390625e-01, -3.22265625e-01,  8.39843750e-02,\n",
              "        3.90625000e-02,  5.85937500e-03,  7.03125000e-02,  1.72851562e-01,\n",
              "        1.38671875e-01, -2.31445312e-01,  2.83203125e-01,  1.42578125e-01,\n",
              "        3.41796875e-01, -2.39257812e-02, -1.09863281e-01,  3.32031250e-02,\n",
              "       -5.46875000e-02,  1.53198242e-02, -1.62109375e-01,  1.58203125e-01,\n",
              "       -2.59765625e-01,  2.01416016e-02, -1.63085938e-01,  1.35803223e-03,\n",
              "       -1.44531250e-01, -5.68847656e-02,  4.29687500e-02, -2.46582031e-02,\n",
              "        1.85546875e-01,  4.47265625e-01,  9.58251953e-03,  1.31835938e-01,\n",
              "        9.86328125e-02, -1.85546875e-01, -1.00097656e-01, -1.33789062e-01,\n",
              "       -1.25000000e-01,  2.83203125e-01,  1.23046875e-01,  5.32226562e-02,\n",
              "       -1.77734375e-01,  8.59375000e-02, -2.18505859e-02,  2.05078125e-02,\n",
              "       -1.39648438e-01,  2.51464844e-02,  1.38671875e-01, -1.05468750e-01,\n",
              "        1.38671875e-01,  8.88671875e-02, -7.51953125e-02, -2.13623047e-02,\n",
              "        1.72851562e-01,  4.63867188e-02, -2.65625000e-01,  8.91113281e-03,\n",
              "        1.49414062e-01,  3.78417969e-02,  2.38281250e-01, -1.24511719e-01,\n",
              "       -2.17773438e-01, -1.81640625e-01,  2.97851562e-02,  5.71289062e-02,\n",
              "       -2.89306641e-02,  1.24511719e-02,  9.66796875e-02, -2.31445312e-01,\n",
              "        5.81054688e-02,  6.68945312e-02,  7.08007812e-02, -3.08593750e-01,\n",
              "       -2.14843750e-01,  1.45507812e-01, -4.27734375e-01, -9.39941406e-03,\n",
              "        1.54296875e-01, -7.66601562e-02,  2.89062500e-01,  2.77343750e-01,\n",
              "       -4.86373901e-04, -1.36718750e-01,  3.24218750e-01, -2.46093750e-01,\n",
              "       -3.03649902e-03, -2.11914062e-01,  1.25000000e-01,  2.69531250e-01,\n",
              "        2.04101562e-01,  8.25195312e-02, -2.01171875e-01, -1.60156250e-01,\n",
              "       -3.78417969e-02, -1.20117188e-01,  1.15234375e-01, -4.10156250e-02,\n",
              "       -3.95507812e-02, -8.98437500e-02,  6.34765625e-03,  2.03125000e-01,\n",
              "        1.86523438e-01,  2.73437500e-01,  6.29882812e-02,  1.41601562e-01,\n",
              "       -9.81445312e-02,  1.38671875e-01,  1.82617188e-01,  1.73828125e-01,\n",
              "        1.73828125e-01, -2.37304688e-01,  1.78710938e-01,  6.34765625e-02,\n",
              "        2.36328125e-01, -2.08984375e-01,  8.74023438e-02, -1.66015625e-01,\n",
              "       -7.91015625e-02,  2.43164062e-01, -8.88671875e-02,  1.26953125e-01,\n",
              "       -2.16796875e-01, -1.73828125e-01, -3.59375000e-01, -8.25195312e-02,\n",
              "       -6.49414062e-02,  5.07812500e-02,  1.35742188e-01, -7.47070312e-02,\n",
              "       -1.64062500e-01,  1.15356445e-02,  4.45312500e-01, -2.15820312e-01,\n",
              "       -1.11328125e-01, -1.92382812e-01,  1.70898438e-01, -1.25000000e-01,\n",
              "        2.65502930e-03,  1.92382812e-01, -1.74804688e-01,  1.39648438e-01,\n",
              "        2.92968750e-01,  1.13281250e-01,  5.95703125e-02, -6.39648438e-02,\n",
              "        9.96093750e-02, -2.72216797e-02,  1.96533203e-02,  4.27246094e-02,\n",
              "       -2.46093750e-01,  6.39648438e-02, -2.25585938e-01, -1.68945312e-01,\n",
              "        2.89916992e-03,  8.20312500e-02,  3.41796875e-01,  4.32128906e-02,\n",
              "        1.32812500e-01,  1.42578125e-01,  7.61718750e-02,  5.98144531e-02,\n",
              "       -1.19140625e-01,  2.74658203e-03, -6.29882812e-02, -2.72216797e-02,\n",
              "       -4.82177734e-03, -8.20312500e-02, -2.49023438e-02, -4.00390625e-01,\n",
              "       -1.06933594e-01,  4.24804688e-02,  7.76367188e-02, -1.16699219e-01,\n",
              "        7.37304688e-02, -9.22851562e-02,  1.07910156e-01,  1.58203125e-01,\n",
              "        4.24804688e-02,  1.26953125e-01,  3.61328125e-02,  2.67578125e-01,\n",
              "       -1.01074219e-01, -3.02734375e-01, -5.76171875e-02,  5.05371094e-02,\n",
              "        5.26428223e-04, -2.07031250e-01, -1.38671875e-01, -8.97216797e-03,\n",
              "       -2.78320312e-02, -1.41601562e-01,  2.07031250e-01, -1.58203125e-01,\n",
              "        1.27929688e-01,  1.49414062e-01, -2.24609375e-02, -8.44726562e-02,\n",
              "        1.22558594e-01,  2.15820312e-01, -2.13867188e-01, -3.12500000e-01,\n",
              "       -3.73046875e-01,  4.08935547e-03,  1.07421875e-01,  1.06933594e-01,\n",
              "        7.32421875e-02,  8.97216797e-03, -3.88183594e-02, -1.29882812e-01,\n",
              "        1.49414062e-01, -2.14843750e-01, -1.83868408e-03,  9.91210938e-02,\n",
              "        1.57226562e-01, -1.14257812e-01, -2.05078125e-01,  9.91210938e-02,\n",
              "        3.69140625e-01, -1.97265625e-01,  3.54003906e-02,  1.09375000e-01,\n",
              "        1.31835938e-01,  1.66992188e-01,  2.35351562e-01,  1.04980469e-01,\n",
              "       -4.96093750e-01, -1.64062500e-01, -1.56250000e-01, -5.22460938e-02,\n",
              "        1.03027344e-01,  2.43164062e-01, -1.88476562e-01,  5.07812500e-02,\n",
              "       -9.37500000e-02, -6.68945312e-02,  2.27050781e-02,  7.61718750e-02,\n",
              "        2.89062500e-01,  3.10546875e-01, -5.37109375e-02,  2.28515625e-01,\n",
              "        2.51464844e-02,  6.78710938e-02, -1.21093750e-01, -2.15820312e-01,\n",
              "       -2.73437500e-01, -3.07617188e-02, -3.37890625e-01,  1.53320312e-01,\n",
              "        2.33398438e-01, -2.08007812e-01,  3.73046875e-01,  8.20312500e-02,\n",
              "        2.51953125e-01, -7.61718750e-02, -4.66308594e-02, -2.23388672e-02,\n",
              "        2.99072266e-02, -5.93261719e-02, -4.66918945e-03, -2.44140625e-01,\n",
              "       -2.09960938e-01, -2.87109375e-01, -4.54101562e-02, -1.77734375e-01,\n",
              "       -2.79296875e-01, -8.59375000e-02,  9.13085938e-02,  2.51953125e-01],\n",
              "      dtype=float32)"
            ]
          },
          "metadata": {},
          "execution_count": 9
        }
      ]
    },
    {
      "cell_type": "code",
      "source": [
        "wv['man']"
      ],
      "metadata": {
        "colab": {
          "base_uri": "https://localhost:8080/"
        },
        "collapsed": true,
        "id": "0SnwlVGvEYPq",
        "outputId": "7faabd5a-1325-49cd-c287-5cbdf6174ab7"
      },
      "execution_count": 10,
      "outputs": [
        {
          "output_type": "execute_result",
          "data": {
            "text/plain": [
              "array([ 0.32617188,  0.13085938,  0.03466797, -0.08300781,  0.08984375,\n",
              "       -0.04125977, -0.19824219,  0.00689697,  0.14355469,  0.0019455 ,\n",
              "        0.02880859, -0.25      , -0.08398438, -0.15136719, -0.10205078,\n",
              "        0.04077148, -0.09765625,  0.05932617,  0.02978516, -0.10058594,\n",
              "       -0.13085938,  0.001297  ,  0.02612305, -0.27148438,  0.06396484,\n",
              "       -0.19140625, -0.078125  ,  0.25976562,  0.375     , -0.04541016,\n",
              "        0.16210938,  0.13671875, -0.06396484, -0.02062988, -0.09667969,\n",
              "        0.25390625,  0.24804688, -0.12695312,  0.07177734,  0.3203125 ,\n",
              "        0.03149414, -0.03857422,  0.21191406, -0.00811768,  0.22265625,\n",
              "       -0.13476562, -0.07617188,  0.01049805, -0.05175781,  0.03808594,\n",
              "       -0.13378906,  0.125     ,  0.0559082 , -0.18261719,  0.08154297,\n",
              "       -0.08447266, -0.07763672, -0.04345703,  0.08105469, -0.01092529,\n",
              "        0.17480469,  0.30664062, -0.04321289, -0.01416016,  0.09082031,\n",
              "       -0.00927734, -0.03442383, -0.11523438,  0.12451172, -0.0246582 ,\n",
              "        0.08544922,  0.14355469, -0.27734375,  0.03662109, -0.11035156,\n",
              "        0.13085938, -0.01721191, -0.08056641, -0.00708008, -0.02954102,\n",
              "        0.30078125, -0.09033203,  0.03149414, -0.18652344, -0.11181641,\n",
              "        0.10253906, -0.25976562, -0.02209473,  0.16796875, -0.05322266,\n",
              "       -0.14550781, -0.01049805, -0.03039551, -0.03857422,  0.11523438,\n",
              "       -0.0062561 , -0.13964844,  0.08007812,  0.06103516, -0.15332031,\n",
              "       -0.11132812, -0.14160156,  0.19824219, -0.06933594,  0.29296875,\n",
              "       -0.16015625,  0.20898438,  0.00041771,  0.01831055, -0.20214844,\n",
              "        0.04760742,  0.05810547, -0.0123291 , -0.01989746, -0.00364685,\n",
              "       -0.0135498 , -0.08251953, -0.03149414,  0.00717163,  0.20117188,\n",
              "        0.08300781, -0.0480957 , -0.26367188, -0.09667969, -0.22558594,\n",
              "       -0.09667969,  0.06494141, -0.02502441,  0.08496094,  0.03198242,\n",
              "       -0.07568359, -0.25390625, -0.11669922, -0.01446533, -0.16015625,\n",
              "       -0.00701904, -0.05712891,  0.02807617, -0.09179688,  0.25195312,\n",
              "        0.24121094,  0.06640625,  0.12988281,  0.17089844, -0.13671875,\n",
              "        0.1875    , -0.10009766, -0.04199219, -0.12011719,  0.00524902,\n",
              "        0.15625   , -0.203125  , -0.07128906, -0.06103516,  0.01635742,\n",
              "        0.18261719,  0.03588867, -0.04248047,  0.16796875, -0.15039062,\n",
              "       -0.16992188,  0.01831055,  0.27734375, -0.01269531, -0.0390625 ,\n",
              "       -0.15429688,  0.18457031, -0.07910156,  0.09033203, -0.02709961,\n",
              "        0.08251953,  0.06738281, -0.16113281, -0.19628906, -0.15234375,\n",
              "       -0.04711914,  0.04760742,  0.05908203, -0.16894531, -0.14941406,\n",
              "        0.12988281,  0.04321289,  0.02624512, -0.1796875 , -0.19628906,\n",
              "        0.06445312,  0.08935547,  0.1640625 , -0.03808594, -0.09814453,\n",
              "       -0.01483154,  0.1875    ,  0.12792969,  0.22753906,  0.01818848,\n",
              "       -0.07958984, -0.11376953, -0.06933594, -0.15527344, -0.08105469,\n",
              "       -0.09277344, -0.11328125, -0.15136719, -0.08007812, -0.05126953,\n",
              "       -0.15332031,  0.11669922,  0.06835938,  0.0324707 , -0.33984375,\n",
              "       -0.08154297, -0.08349609,  0.04003906,  0.04907227, -0.24121094,\n",
              "       -0.13476562, -0.05932617,  0.12158203, -0.34179688,  0.16503906,\n",
              "        0.06176758, -0.18164062,  0.20117188, -0.07714844,  0.1640625 ,\n",
              "        0.00402832,  0.30273438, -0.10009766, -0.13671875, -0.05957031,\n",
              "        0.0625    , -0.21289062, -0.06542969,  0.1796875 , -0.07763672,\n",
              "       -0.01928711, -0.15039062, -0.00106049,  0.03417969,  0.03344727,\n",
              "        0.19335938,  0.01965332, -0.19921875, -0.10644531,  0.01525879,\n",
              "        0.00927734,  0.01416016, -0.02392578,  0.05883789,  0.02368164,\n",
              "        0.125     ,  0.04760742, -0.05566406,  0.11572266,  0.14746094,\n",
              "        0.1015625 , -0.07128906, -0.07714844, -0.12597656,  0.0291748 ,\n",
              "        0.09521484, -0.12402344, -0.109375  , -0.12890625,  0.16308594,\n",
              "        0.28320312, -0.03149414,  0.12304688, -0.23242188, -0.09375   ,\n",
              "       -0.12988281,  0.0135498 , -0.03881836, -0.08251953,  0.00897217,\n",
              "        0.16308594,  0.10546875, -0.13867188, -0.16503906, -0.03857422,\n",
              "        0.10839844, -0.10498047,  0.06396484,  0.38867188, -0.05981445,\n",
              "       -0.0612793 , -0.10449219, -0.16796875,  0.07177734,  0.13964844,\n",
              "        0.15527344, -0.03125   , -0.20214844, -0.12988281, -0.10058594,\n",
              "       -0.06396484, -0.08349609, -0.30273438, -0.08007812,  0.02099609],\n",
              "      dtype=float32)"
            ]
          },
          "metadata": {},
          "execution_count": 10
        }
      ]
    },
    {
      "cell_type": "code",
      "source": [
        "wv.most_similar('man')"
      ],
      "metadata": {
        "colab": {
          "base_uri": "https://localhost:8080/"
        },
        "id": "Po3hOx2UEiLR",
        "outputId": "d79f891b-69fc-48f7-f350-4a918e6b8b9e"
      },
      "execution_count": 11,
      "outputs": [
        {
          "output_type": "execute_result",
          "data": {
            "text/plain": [
              "[('woman', 0.7664012908935547),\n",
              " ('boy', 0.6824871301651001),\n",
              " ('teenager', 0.6586930155754089),\n",
              " ('teenage_girl', 0.6147903203964233),\n",
              " ('girl', 0.5921714305877686),\n",
              " ('suspected_purse_snatcher', 0.571636438369751),\n",
              " ('robber', 0.5585119128227234),\n",
              " ('Robbery_suspect', 0.5584409832954407),\n",
              " ('teen_ager', 0.5549196600914001),\n",
              " ('men', 0.5489763021469116)]"
            ]
          },
          "metadata": {},
          "execution_count": 11
        }
      ]
    },
    {
      "cell_type": "code",
      "source": [
        "wv.similarity('man', 'king')"
      ],
      "metadata": {
        "colab": {
          "base_uri": "https://localhost:8080/"
        },
        "id": "aPRwjb0yE2i2",
        "outputId": "1444c99e-3f41-4c99-b4d6-773967966266"
      },
      "execution_count": 12,
      "outputs": [
        {
          "output_type": "execute_result",
          "data": {
            "text/plain": [
              "0.22942673"
            ]
          },
          "metadata": {},
          "execution_count": 12
        }
      ]
    },
    {
      "cell_type": "code",
      "source": [
        "vec = wv['king'] - wv['man'] - wv['women']"
      ],
      "metadata": {
        "id": "iCXE5tLEF8k6"
      },
      "execution_count": 13,
      "outputs": []
    },
    {
      "cell_type": "code",
      "source": [
        "wv.most_similar([vec])"
      ],
      "metadata": {
        "colab": {
          "base_uri": "https://localhost:8080/"
        },
        "id": "HnwoJp9UGOCA",
        "outputId": "fd9a5a05-0db3-467f-9cb5-37f0ff7b88d1"
      },
      "execution_count": 14,
      "outputs": [
        {
          "output_type": "execute_result",
          "data": {
            "text/plain": [
              "[('king', 0.511294960975647),\n",
              " ('Pansy_Ho_Chiu', 0.31968215107917786),\n",
              " ('kings', 0.30253279209136963),\n",
              " ('persia', 0.2840883731842041),\n",
              " ('Rama_VII', 0.278728723526001),\n",
              " ('Critics_derisively_nicknamed', 0.27705803513526917),\n",
              " ('kingdom', 0.2740161120891571),\n",
              " ('Dethroning', 0.26580914855003357),\n",
              " ('Hassle_Free_Lead', 0.2651389241218567),\n",
              " ('King_Gyanendra', 0.2642090320587158)]"
            ]
          },
          "metadata": {},
          "execution_count": 14
        }
      ]
    }
  ]
}